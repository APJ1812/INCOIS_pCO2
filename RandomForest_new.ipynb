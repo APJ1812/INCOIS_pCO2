{
 "cells": [
  {
   "cell_type": "code",
   "execution_count": 1,
   "id": "cadae82f",
   "metadata": {},
   "outputs": [],
   "source": [
    "from sklearn.ensemble import RandomForestRegressor\n",
    "from sklearn.model_selection import train_test_split\n",
    "from sklearn.metrics import accuracy_score\n",
    "import pandas as pd\n",
    "import numpy as np\n",
    "from sklearn.model_selection import RandomizedSearchCV\n",
    "import numpy as np\n",
    "from sklearn.metrics import r2_score\n",
    "from sklearn.model_selection import KFold\n",
    "\n",
    "# X = pd.read_csv(\"X_train_RF.csv\")\n",
    "# y = pd.read_csv(\"y_train_RF.csv\")\n",
    "# X_test = pd.read_csv(\"X_test_RF.csv\")\n",
    "# y_test = pd.read_csv(\"y_test_RF.csv\")\n",
    "# X = X.drop(['Lon','Lat'],axis=1)\n",
    "# X_test = X_test.drop(['Lon','Lat'],axis=1)\n",
    "\n",
    "X = pd.read_csv(\"X_train42.csv\")\n",
    "y = pd.read_csv(\"y_train42.csv\")\n",
    "X_test = pd.read_csv(\"X_test42.csv\")\n",
    "y_test = pd.read_csv(\"y_test42.csv\")\n",
    "\n",
    "y = np.ravel(y)\n",
    "y_test = np.ravel(y_test)\n"
   ]
  },
  {
   "cell_type": "code",
   "execution_count": 2,
   "id": "22ff5e91",
   "metadata": {},
   "outputs": [],
   "source": [
    "from sklearn.preprocessing import StandardScaler\n",
    "\n",
    "sc = StandardScaler()\n",
    "X = sc.fit_transform(X)\n",
    "X_test = sc.transform(X_test)"
   ]
  },
  {
   "cell_type": "code",
   "execution_count": 3,
   "id": "8da39813",
   "metadata": {},
   "outputs": [],
   "source": [
    "kfold = KFold(n_splits=10)"
   ]
  },
  {
   "cell_type": "code",
   "execution_count": 4,
   "id": "abded13f",
   "metadata": {},
   "outputs": [],
   "source": [
    "\n",
    "params= {'max_depth': 27, 'n_estimators': 355, 'min_samples_split': 17, 'min_samples_leaf': 11,'n_jobs':-1,'criterion': 'squared_error'}\n",
    "# params={'random_state':42,'n_jobs':-1}\n",
    "# Initialize a random forest model\n",
    "\n",
    "for train_ix, val_ix in kfold.split(X):\n",
    "    X_train, X_val = X[train_ix], X[val_ix]\n",
    "    y_train, y_val = y[train_ix], y[val_ix]\n",
    "    \n",
    "\n",
    "    rf_model = RandomForestRegressor(**params)\n",
    "    rf_model.fit(X_train,y_train)\n",
    "\n",
    "\n",
    "# Train the model\n",
    "#rf_model.fit(X_train, y_train)\n",
    "\n",
    "# Make predictions on the test set\n"
   ]
  },
  {
   "cell_type": "code",
   "execution_count": 5,
   "id": "e75af3bd",
   "metadata": {},
   "outputs": [
    {
     "name": "stdout",
     "output_type": "stream",
     "text": [
      "R-squared value (training set): 0.9773216335886903\n",
      "R-squared value (testing set): 0.9646208091602715\n"
     ]
    }
   ],
   "source": [
    "\n",
    "y_train_pred = rf_model.predict(X)\n",
    "\n",
    "# # Calculate the R-squared value for the training set\n",
    "r2_train = r2_score(y, y_train_pred)\n",
    "print(\"R-squared value (training set):\", r2_train)\n",
    "\n",
    "# # Make predictions on the testing set\n",
    "y_test_pred = rf_model.predict(X_test)\n",
    "\n",
    "# Calculate the R-squared value for the testing set\n",
    "r2_test = r2_score(y_test, y_test_pred)\n",
    "print(\"R-squared value (testing set):\", r2_test)"
   ]
  },
  {
   "cell_type": "code",
   "execution_count": 6,
   "id": "a49ce785",
   "metadata": {},
   "outputs": [
    {
     "data": {
      "text/plain": [
       "(25720,)"
      ]
     },
     "execution_count": 6,
     "metadata": {},
     "output_type": "execute_result"
    }
   ],
   "source": [
    "y_train.shape"
   ]
  },
  {
   "cell_type": "code",
   "execution_count": 7,
   "id": "a31b3394",
   "metadata": {},
   "outputs": [],
   "source": [
    "from sklearn.metrics import mean_squared_error\n",
    "\n",
    "rmse = mean_squared_error(y_test,y_test_pred,squared=False)\n"
   ]
  },
  {
   "cell_type": "code",
   "execution_count": 8,
   "id": "56c6a6ec",
   "metadata": {},
   "outputs": [
    {
     "data": {
      "text/plain": [
       "5.715633870799895"
      ]
     },
     "execution_count": 8,
     "metadata": {},
     "output_type": "execute_result"
    }
   ],
   "source": [
    "rmse"
   ]
  },
  {
   "cell_type": "code",
   "execution_count": 9,
   "id": "eeeb64e0",
   "metadata": {},
   "outputs": [
    {
     "data": {
      "text/plain": [
       "4.563611572458339"
      ]
     },
     "execution_count": 9,
     "metadata": {},
     "output_type": "execute_result"
    }
   ],
   "source": [
    " mean_squared_error(y, y_train_pred,squared=False)"
   ]
  },
  {
   "cell_type": "code",
   "execution_count": 10,
   "id": "d0eced80",
   "metadata": {},
   "outputs": [
    {
     "data": {
      "text/plain": [
       "{'bootstrap': True,\n",
       " 'ccp_alpha': 0.0,\n",
       " 'criterion': 'squared_error',\n",
       " 'max_depth': 27,\n",
       " 'max_features': 1.0,\n",
       " 'max_leaf_nodes': None,\n",
       " 'max_samples': None,\n",
       " 'min_impurity_decrease': 0.0,\n",
       " 'min_samples_leaf': 11,\n",
       " 'min_samples_split': 17,\n",
       " 'min_weight_fraction_leaf': 0.0,\n",
       " 'n_estimators': 355,\n",
       " 'n_jobs': -1,\n",
       " 'oob_score': False,\n",
       " 'random_state': 0,\n",
       " 'verbose': 0,\n",
       " 'warm_start': False}"
      ]
     },
     "execution_count": 10,
     "metadata": {},
     "output_type": "execute_result"
    }
   ],
   "source": [
    "rf_model.get_params()"
   ]
  },
  {
   "cell_type": "code",
   "execution_count": 14,
   "id": "594fd334",
   "metadata": {},
   "outputs": [
    {
     "data": {
      "text/plain": [
       "['RFRE_BoB.joblib.dat']"
      ]
     },
     "execution_count": 14,
     "metadata": {},
     "output_type": "execute_result"
    }
   ],
   "source": [
    "from joblib import dump\n",
    "from joblib import load\n",
    "\n",
    "# save model to file\n",
    "# dump(rf_model,\"RFRE_BoB.joblib.dat\")"
   ]
  },
  {
   "cell_type": "code",
   "execution_count": 13,
   "id": "56862f81",
   "metadata": {},
   "outputs": [],
   "source": [
    "# RF_pred = pd.DataFrame(y_test_pred)\n",
    "# RF_pred.columns = ['pCO2RF_testp']\n",
    "\n",
    "# RF_pred_train = pd.DataFrame(y_train_pred)\n",
    "# RF_pred_train.columns = ['pCO2RF_trainp']\n",
    "\n",
    "# RF_pred.to_csv(\"RFpred_test.csv\",index=False)\n",
    "\n",
    "# RF_pred_train.to_csv(\"RFpred_train.csv\",index=False)"
   ]
  },
  {
   "cell_type": "code",
   "execution_count": null,
   "id": "f9486ac4",
   "metadata": {},
   "outputs": [],
   "source": []
  },
  {
   "cell_type": "code",
   "execution_count": null,
   "id": "63f108ba",
   "metadata": {},
   "outputs": [],
   "source": []
  }
 ],
 "metadata": {
  "kernelspec": {
   "display_name": "Python 3 (ipykernel)",
   "language": "python",
   "name": "python3"
  },
  "language_info": {
   "codemirror_mode": {
    "name": "ipython",
    "version": 3
   },
   "file_extension": ".py",
   "mimetype": "text/x-python",
   "name": "python",
   "nbconvert_exporter": "python",
   "pygments_lexer": "ipython3",
   "version": "3.10.10"
  }
 },
 "nbformat": 4,
 "nbformat_minor": 5
}
